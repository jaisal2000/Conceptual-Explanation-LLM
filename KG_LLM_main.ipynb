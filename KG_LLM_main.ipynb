{
  "nbformat": 4,
  "nbformat_minor": 0,
  "metadata": {
    "colab": {
      "provenance": []
    },
    "kernelspec": {
      "name": "python3",
      "display_name": "Python 3"
    },
    "language_info": {
      "name": "python"
    }
  },
  "cells": [
    {
      "cell_type": "code",
      "execution_count": 1,
      "metadata": {
        "colab": {
          "base_uri": "https://localhost:8080/"
        },
        "id": "a-qR0ydNhu7u",
        "outputId": "ecc84eaf-89cf-46a6-cc86-c3fa1229c571"
      },
      "outputs": [
        {
          "output_type": "stream",
          "name": "stdout",
          "text": [
            "\u001b[?25l   \u001b[90m━━━━━━━━━━━━━━━━━━━━━━━━━━━━━━━━━━━━━━━━\u001b[0m \u001b[32m0.0/130.2 kB\u001b[0m \u001b[31m?\u001b[0m eta \u001b[36m-:--:--\u001b[0m\r\u001b[2K   \u001b[91m━━━━━━━━━━━━━━━━━━━━━━━━━━━━━━━━━━━━━\u001b[0m\u001b[91m╸\u001b[0m\u001b[90m━━\u001b[0m \u001b[32m122.9/130.2 kB\u001b[0m \u001b[31m7.4 MB/s\u001b[0m eta \u001b[36m0:00:01\u001b[0m\r\u001b[2K   \u001b[90m━━━━━━━━━━━━━━━━━━━━━━━━━━━━━━━━━━━━━━━━\u001b[0m \u001b[32m130.2/130.2 kB\u001b[0m \u001b[31m3.3 MB/s\u001b[0m eta \u001b[36m0:00:00\u001b[0m\n",
            "\u001b[?25h"
          ]
        }
      ],
      "source": [
        "# Install required libraries\n",
        "!pip install groq requests -q"
      ]
    },
    {
      "cell_type": "code",
      "source": [
        "import os\n",
        "import requests\n",
        "import json\n",
        "from groq import Groq\n",
        "from google.colab import userdata\n",
        "\n",
        "# Configure the Groq client with your API key from Colab secrets\n",
        "try:\n",
        "    GROQ_API_KEY = userdata.get('GROQ_API_KEY')\n",
        "    client = Groq(api_key=GROQ_API_KEY)\n",
        "    print(\"Groq client configured successfully.\")\n",
        "except userdata.SecretNotFoundError:\n",
        "    print(\"ERROR: 'GROQ_API_KEY' not found. Please add it to Colab secrets.\")\n",
        "except Exception as e:\n",
        "    print(f\"An error occurred: {e}\")\n",
        "\n",
        "\n",
        "# Define the LLM model we'll use\n",
        "LLM_MODEL = 'llama3-8b-8192'\n",
        "\n",
        "# ConceptNet API endpoint\n",
        "CONCEPTNET_API_URL = \"http://api.conceptnet.io\""
      ],
      "metadata": {
        "colab": {
          "base_uri": "https://localhost:8080/"
        },
        "id": "5ghDyVS4h89P",
        "outputId": "c04cfb5f-5267-4864-d6c5-8fbbe66d94d9"
      },
      "execution_count": 2,
      "outputs": [
        {
          "output_type": "stream",
          "name": "stdout",
          "text": [
            "Groq client configured successfully.\n"
          ]
        }
      ]
    },
    {
      "cell_type": "code",
      "source": [
        "# --- Block 1: LLM Answer Generation ---\n",
        "def get_llm_answer(question):\n",
        "    \"\"\"Generates a direct, fluent answer to the user's question.\"\"\"\n",
        "    print(f\"-> Generating LLM answer for: '{question}'\")\n",
        "    chat_completion = client.chat.completions.create(\n",
        "        messages=[\n",
        "            {\n",
        "                \"role\": \"system\",\n",
        "                \"content\": \"You are a helpful tutor. Answer the user's question clearly and concisely.\",\n",
        "            },\n",
        "            {\n",
        "                \"role\": \"user\",\n",
        "                \"content\": question,\n",
        "            }\n",
        "        ],\n",
        "        model=LLM_MODEL,\n",
        "        temperature=0.7,\n",
        "    )\n",
        "    return chat_completion.choices[0].message.content"
      ],
      "metadata": {
        "id": "YP-KxjHFiTGv"
      },
      "execution_count": 3,
      "outputs": []
    },
    {
      "cell_type": "code",
      "source": [
        "# --- Block 2: Concept Extraction Engine ---\n",
        "def extract_concepts_with_llm(question, answer):\n",
        "    \"\"\"Uses an LLM to extract key concepts from the question and answer.\"\"\"\n",
        "    print(\"-> Extracting key concepts...\")\n",
        "    prompt = f\"\"\"\n",
        "From the following user question and AI answer, extract the most important concepts.\n",
        "A concept should be one or two words, like \"sunscreen\" or \"ultraviolet rays\".\n",
        "Return the concepts as a JSON object with two keys: \"question_concepts\" and \"answer_concepts\".\n",
        "\n",
        "Question: \"{question}\"\n",
        "Answer: \"{answer}\"\n",
        "\n",
        "Example:\n",
        "Question: \"Why do we use sunscreen?\"\n",
        "Answer: \"We use sunscreen to protect our skin from harmful ultraviolet (UV) rays from the sun.\"\n",
        "Output:\n",
        "{{\n",
        "  \"question_concepts\": [\"sunscreen\", \"sun\"],\n",
        "  \"answer_concepts\": [\"protecting skin\", \"ultraviolet rays\", \"skin damage\"]\n",
        "}}\n",
        "\n",
        "Now, provide the output for the given question and answer.\n",
        "\"\"\"\n",
        "    chat_completion = client.chat.completions.create(\n",
        "        messages=[\n",
        "            {\"role\": \"user\", \"content\": prompt}\n",
        "        ],\n",
        "        model=LLM_MODEL,\n",
        "        response_format={\"type\": \"json_object\"},\n",
        "    )\n",
        "    try:\n",
        "        concepts = json.loads(chat_completion.choices[0].message.content)\n",
        "        # Simple normalization: lowercase and replace spaces with underscores for ConceptNet\n",
        "        concepts['question_concepts'] = [c.lower().replace(' ', '_') for c in concepts.get('question_concepts', [])]\n",
        "        concepts['answer_concepts'] = [c.lower().replace(' ', '_') for c in concepts.get('answer_concepts', [])]\n",
        "        return concepts\n",
        "    except json.JSONDecodeError:\n",
        "        print(\"Error: LLM did not return valid JSON for concepts.\")\n",
        "        return {\"question_concepts\": [], \"answer_concepts\": []}\n"
      ],
      "metadata": {
        "id": "k6EHoCU-iXzq"
      },
      "execution_count": 4,
      "outputs": []
    },
    {
      "cell_type": "code",
      "source": [
        "# --- Block 3: Relational Path Finding in ConceptNet ---\n",
        "def find_conceptnet_path(start_concept, end_concept):\n",
        "    \"\"\"Finds a relationship path between two concepts in ConceptNet.\"\"\"\n",
        "    print(f\"-> Finding ConceptNet path between '{start_concept}' and '{end_concept}'...\")\n",
        "    start_uri = f\"/c/en/{start_concept}\"\n",
        "    end_uri = f\"/c/en/{end_concept}\"\n",
        "\n",
        "    try:\n",
        "        # We look for relationships where the start concept is the start\n",
        "        response = requests.get(f\"{CONCEPTNET_API_URL}/query?start={start_uri}&end={end_uri}&limit=5\")\n",
        "        response.raise_for_status()\n",
        "        data = response.json()\n",
        "        if data['edges']:\n",
        "            edge = data['edges'][0] # Take the first, most relevant edge\n",
        "            rel_label = edge['rel']['label']\n",
        "            return f'\"{start_concept}\" {rel_label} \"{end_concept}\"'\n",
        "\n",
        "        # If no direct path, try reversing the concepts\n",
        "        response = requests.get(f\"{CONCEPTNET_API_URL}/query?start={end_uri}&end={start_uri}&limit=5\")\n",
        "        response.raise_for_status()\n",
        "        data = response.json()\n",
        "        if data['edges']:\n",
        "            edge = data['edges'][0]\n",
        "            rel_label = edge['rel']['label']\n",
        "            return f'\"{end_uri}\" {rel_label} \"{start_uri}\"' # Note the order is swapped back\n",
        "\n",
        "    except requests.exceptions.RequestException as e:\n",
        "        print(f\"  - ConceptNet API error: {e}\")\n",
        "    return None"
      ],
      "metadata": {
        "id": "i7T5ChNpidcy"
      },
      "execution_count": 5,
      "outputs": []
    },
    {
      "cell_type": "code",
      "source": [
        "# --- Block 4: Explanation Synthesis and Refinement ---\n",
        "def build_and_refine_explanation(question, relations):\n",
        "    \"\"\"Takes structured relations and uses an LLM to build a natural language explanation.\"\"\"\n",
        "    if not relations:\n",
        "        return \"Could not find any commonsense relationships to build an explanation.\"\n",
        "\n",
        "    print(\"-> Refining explanation with LLM...\")\n",
        "    structured_explanation = \"\\n- \".join(relations)\n",
        "    prompt = f\"\"\"\n",
        "You are an explanation engine.\n",
        "Given a user's question and a set of structured commonsense relationships from ConceptNet, synthesize them into a single, easy-to-understand paragraph that explains the reasoning behind the answer.\n",
        "Do not just list the relationships. Weave them into a coherent narrative.\n",
        "\n",
        "User Question: \"{question}\"\n",
        "\n",
        "Commonsense Relationships:\n",
        "- {structured_explanation}\n",
        "\n",
        "Generated Explanation:\n",
        "\"\"\"\n",
        "    chat_completion = client.chat.completions.create(\n",
        "        messages=[\n",
        "            {\"role\": \"user\", \"content\": prompt}\n",
        "        ],\n",
        "        model=LLM_MODEL,\n",
        "        temperature=0.5,\n",
        "    )\n",
        "    return chat_completion.choices[0].message.content"
      ],
      "metadata": {
        "id": "iCNK_ec5igcc"
      },
      "execution_count": 6,
      "outputs": []
    },
    {
      "cell_type": "code",
      "source": [
        "def explainable_ai_tutor(user_question):\n",
        "    \"\"\"The main pipeline for the explainable AI tutor.\"\"\"\n",
        "    print(\"=\"*50)\n",
        "    print(f\"USER QUESTION: {user_question}\")\n",
        "    print(\"=\"*50)\n",
        "\n",
        "    # 1. Get LLM Answer\n",
        "    llm_answer = get_llm_answer(user_question)\n",
        "    print(f\"\\n🤖 LLM Answer:\\n{llm_answer}\\n\")\n",
        "\n",
        "    # 2. Extract Concepts\n",
        "    concepts = extract_concepts_with_llm(user_question, llm_answer)\n",
        "    print(f\"  - Extracted Question Concepts: {concepts['question_concepts']}\")\n",
        "    print(f\"  - Extracted Answer Concepts: {concepts['answer_concepts']}\")\n",
        "\n",
        "    if not concepts['question_concepts'] or not concepts['answer_concepts']:\n",
        "        print(\"\\nCould not extract sufficient concepts to build an explanation.\")\n",
        "        return\n",
        "\n",
        "    # 3. Find Relational Paths in ConceptNet\n",
        "    found_relations = []\n",
        "    # This is a simple but effective strategy: find links between question & answer concepts\n",
        "    for q_concept in concepts['question_concepts']:\n",
        "        for a_concept in concepts['answer_concepts']:\n",
        "            path = find_conceptnet_path(q_concept, a_concept)\n",
        "            if path and path not in found_relations:\n",
        "                found_relations.append(path)\n",
        "\n",
        "    # Also find paths between answer concepts themselves for more richness\n",
        "    if len(concepts['answer_concepts']) > 1:\n",
        "        for i in range(len(concepts['answer_concepts'])):\n",
        "            for j in range(i + 1, len(concepts['answer_concepts'])):\n",
        "                path = find_conceptnet_path(concepts['answer_concepts'][i], concepts['answer_concepts'][j])\n",
        "                if path and path not in found_relations:\n",
        "                    found_relations.append(path)\n",
        "\n",
        "    if not found_relations:\n",
        "      print(\"\\n🧠 Explanation:\\nCould not find commonsense relationships in ConceptNet for the extracted concepts.\")\n",
        "      return\n",
        "\n",
        "    print(f\"\\n  - Found ConceptNet Relations:\\n  \" + \"\\n  \".join(found_relations))\n",
        "\n",
        "    # 4. Build and Refine Explanation\n",
        "    final_explanation = build_and_refine_explanation(user_question, found_relations)\n",
        "    print(f\"\\n🧠 Explanation:\\n{final_explanation}\")\n",
        "    print(\"=\"*50)"
      ],
      "metadata": {
        "id": "l7J1oAGgij1S"
      },
      "execution_count": 13,
      "outputs": []
    },
    {
      "cell_type": "code",
      "source": [
        "\n",
        "# --- Example : A Different Domain ---\n",
        "explainable_ai_tutor(\"Why should I drink water when I exercise?\")"
      ],
      "metadata": {
        "colab": {
          "base_uri": "https://localhost:8080/"
        },
        "id": "kzftTkM_is9z",
        "outputId": "5b858a8d-0c87-4934-f57e-2c091172b7cb"
      },
      "execution_count": 14,
      "outputs": [
        {
          "output_type": "stream",
          "name": "stdout",
          "text": [
            "==================================================\n",
            "USER QUESTION: Why should I drink water when I exercise?\n",
            "==================================================\n",
            "-> Generating LLM answer for: 'Why should I drink water when I exercise?'\n",
            "\n",
            "🤖 LLM Answer:\n",
            "Drinking water when you exercise is essential for several reasons:\n",
            "\n",
            "1. **Prevents Dehydration**: Exercise causes you to lose water through sweat, and dehydration can lead to fatigue, dizziness, and even heatstroke. Drinking water helps replace the lost fluids and prevents dehydration.\n",
            "2. **Boosts Performance**: Proper hydration improves physical performance by allowing your muscles to function efficiently. It helps regulate body temperature, reduces muscle cramping, and improves endurance.\n",
            "3. **Reduces Muscle Soreness**: Drinking water after exercise can help reduce muscle soreness and inflammation by flushing out waste products and toxins.\n",
            "4. **Maintains Electrolyte Balance**: Water helps maintain the balance of electrolytes (such as sodium, potassium, and calcium) in your body, which is essential for proper muscle and nerve function.\n",
            "5. **Supports Overall Health**: Drinking enough water during exercise can also help support overall health by reducing the risk of kidney stones, urinary tract infections, and other exercise-related health issues.\n",
            "\n",
            "Aim to drink at least 8-10 ounces (250-300ml) of water 30 minutes before exercise, and continue to drink water throughout your workout and after you finish.\n",
            "\n",
            "-> Extracting key concepts...\n",
            "  - Extracted Question Concepts: ['exercise', 'water']\n",
            "  - Extracted Answer Concepts: ['dehydration', 'physical_performance', 'muscle_soreness', 'electrolyte_balance', 'overall_health']\n",
            "-> Finding ConceptNet path between 'exercise' and 'dehydration'...\n",
            "-> Finding ConceptNet path between 'exercise' and 'physical_performance'...\n",
            "-> Finding ConceptNet path between 'exercise' and 'muscle_soreness'...\n",
            "-> Finding ConceptNet path between 'exercise' and 'electrolyte_balance'...\n",
            "-> Finding ConceptNet path between 'exercise' and 'overall_health'...\n",
            "-> Finding ConceptNet path between 'water' and 'dehydration'...\n",
            "-> Finding ConceptNet path between 'water' and 'physical_performance'...\n",
            "-> Finding ConceptNet path between 'water' and 'muscle_soreness'...\n",
            "-> Finding ConceptNet path between 'water' and 'electrolyte_balance'...\n",
            "-> Finding ConceptNet path between 'water' and 'overall_health'...\n",
            "-> Finding ConceptNet path between 'dehydration' and 'physical_performance'...\n",
            "-> Finding ConceptNet path between 'dehydration' and 'muscle_soreness'...\n",
            "-> Finding ConceptNet path between 'dehydration' and 'electrolyte_balance'...\n",
            "-> Finding ConceptNet path between 'dehydration' and 'overall_health'...\n",
            "-> Finding ConceptNet path between 'physical_performance' and 'muscle_soreness'...\n",
            "-> Finding ConceptNet path between 'physical_performance' and 'electrolyte_balance'...\n",
            "-> Finding ConceptNet path between 'physical_performance' and 'overall_health'...\n",
            "-> Finding ConceptNet path between 'muscle_soreness' and 'electrolyte_balance'...\n",
            "-> Finding ConceptNet path between 'muscle_soreness' and 'overall_health'...\n",
            "-> Finding ConceptNet path between 'electrolyte_balance' and 'overall_health'...\n",
            "\n",
            "  - Found ConceptNet Relations:\n",
            "  \"/c/en/dehydration\" RelatedTo \"/c/en/water\"\n",
            "-> Refining explanation with LLM...\n",
            "\n",
            "🧠 Explanation:\n",
            "Here's a synthesized explanation:\n",
            "\n",
            "When you exercise, your body loses water through sweat, which can lead to dehydration. Dehydration can cause a range of unpleasant symptoms, from mild discomfort to more severe issues like fatigue, headaches, and dizziness. Drinking water is essential to replenish the lost fluids and maintain proper bodily functions. In fact, water is closely related to dehydration, as it's often the best way to combat it. By drinking water during and after exercise, you can help regulate your body temperature, lubricate your joints, and support the functioning of your muscles. This is especially important during intense or prolonged physical activity, as dehydration can quickly set in and impair your performance. By staying hydrated, you can ensure a safer, more effective, and more enjoyable exercise routine.\n",
            "==================================================\n"
          ]
        }
      ]
    },
    {
      "cell_type": "code",
      "source": [],
      "metadata": {
        "id": "YcfGnXOnlMN6"
      },
      "execution_count": null,
      "outputs": []
    }
  ]
}